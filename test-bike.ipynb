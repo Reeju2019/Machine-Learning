{
 "metadata": {
  "language_info": {
   "codemirror_mode": {
    "name": "ipython",
    "version": 3
   },
   "file_extension": ".py",
   "mimetype": "text/x-python",
   "name": "python",
   "nbconvert_exporter": "python",
   "pygments_lexer": "ipython3",
   "version": "3.8.5-final"
  },
  "orig_nbformat": 2,
  "kernelspec": {
   "name": "python_defaultSpec_1600871155535",
   "display_name": "Python 3.8.5 64-bit ('reeju': virtualenv)"
  }
 },
 "nbformat": 4,
 "nbformat_minor": 2,
 "cells": [
  {
   "cell_type": "code",
   "execution_count": 1,
   "metadata": {
    "tags": []
   },
   "outputs": [
    {
     "output_type": "stream",
     "name": "stdout",
     "text": "Predictions:\n Day: 1. Predicted rentals: 572\n Day: 2. Predicted rentals: 405\n Day: 3. Predicted rentals: 120\n Day: 4. Predicted rentals: 125\n Day: 5. Predicted rentals: 103\n"
    }
   ],
   "source": [
    "endpoint = 'http://79271a9c-1eb8-47bf-a30d-a7c265147b5f.eastus.azurecontainer.io/score' #Replace with your endpoint\n",
    "key = 'HomcFoJionNzbhRJMuH0PsBpF49at4UK' #Replace with your key\n",
    "\n",
    "import json\n",
    "import requests\n",
    "\n",
    "#An array of features based on five-day weather forecast\n",
    "x = [[1,1,2022,1,0,6,0,2,0.344167,0.363625,0.805833,0.160446],\n",
    "    [2,1,2022,1,0,0,0,2,0.363478,0.353739,0.696087,0.248539],\n",
    "    [3,1,2022,1,0,1,1,1,0.196364,0.189405,0.437273,0.248309],\n",
    "    [4,1,2022,1,0,2,1,1,0.2,0.212122,0.590435,0.160296],\n",
    "    [5,1,2022,1,0,3,1,1,0.226957,0.22927,0.436957,0.1869]]\n",
    "\n",
    "#Convert the array to JSON format\n",
    "input_json = json.dumps({\"data\": x})\n",
    "\n",
    "#Set the content type and authentication for the request\n",
    "headers = {\"Content-Type\":\"application/json\",\n",
    "        \"Authorization\":\"Bearer \" + key}\n",
    "\n",
    "#Send the request\n",
    "response = requests.post(endpoint, input_json, headers=headers)\n",
    "\n",
    "#If we got a valid response, display the predictions\n",
    "if response.status_code == 200:\n",
    "    y = json.loads(response.json())\n",
    "    print(\"Predictions:\")\n",
    "    for i in range(len(x)):\n",
    "        print (\" Day: {}. Predicted rentals: {}\".format(i+1, max(0, round(y[\"result\"][i]))))\n",
    "else:\n",
    "    print(response)"
   ]
  },
  {
   "cell_type": "code",
   "execution_count": null,
   "metadata": {},
   "outputs": [],
   "source": []
  }
 ]
}